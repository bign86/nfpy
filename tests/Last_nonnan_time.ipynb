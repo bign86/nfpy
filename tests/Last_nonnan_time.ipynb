{
 "cells": [
  {
   "cell_type": "markdown",
   "metadata": {},
   "source": [
    "# Last valid index - Pandas vs Numpy"
   ]
  },
  {
   "cell_type": "code",
   "execution_count": 80,
   "metadata": {},
   "outputs": [],
   "source": [
    "import numpy as np\n",
    "import pandas as pd\n",
    "from time import process_time_ns"
   ]
  },
  {
   "cell_type": "markdown",
   "metadata": {},
   "source": [
    "#### Prepare data"
   ]
  },
  {
   "cell_type": "code",
   "execution_count": 81,
   "metadata": {},
   "outputs": [],
   "source": [
    "dates = pd.date_range('1/1/2000', periods=2000)\n",
    "vec = np.random.randn(2000)"
   ]
  },
  {
   "cell_type": "markdown",
   "metadata": {},
   "source": [
    "### Comparison between numpy solutions"
   ]
  },
  {
   "cell_type": "markdown",
   "metadata": {},
   "source": [
    "#### Last 10 nans"
   ]
  },
  {
   "cell_type": "code",
   "execution_count": 82,
   "metadata": {},
   "outputs": [],
   "source": [
    "vec10 = vec.copy()\n",
    "vec10[-10:] = np.nan"
   ]
  },
  {
   "cell_type": "markdown",
   "metadata": {},
   "source": [
    "Create a boolean mask with isnan. Slice a range array using the mask."
   ]
  },
  {
   "cell_type": "code",
   "execution_count": 83,
   "metadata": {},
   "outputs": [
    {
     "name": "stdout",
     "output_type": "stream",
     "text": [
      "290.31 ms\n"
     ]
    }
   ],
   "source": [
    "t1 = process_time_ns()\n",
    "for i in range(1000):\n",
    "    mask = ~np.isnan(vec10)\n",
    "    idv = np.array(range(len(vec10)))\n",
    "    idv = idv[mask][-1]\n",
    "t2 = process_time_ns()\n",
    "print('{:.2f} ms'.format((t2-t1)/1e6))"
   ]
  },
  {
   "cell_type": "markdown",
   "metadata": {},
   "source": [
    "Loop from the back of the array, stop when a non-nan is found."
   ]
  },
  {
   "cell_type": "code",
   "execution_count": 84,
   "metadata": {},
   "outputs": [
    {
     "name": "stdout",
     "output_type": "stream",
     "text": [
      "30.91 ms\n"
     ]
    }
   ],
   "source": [
    "t1 = process_time_ns()\n",
    "for i in range(1000):\n",
    "    i = -1\n",
    "    while np.isnan(vec10[i]):\n",
    "        i -= 1\n",
    "    idv = len(vec10)+i\n",
    "t2 = process_time_ns()\n",
    "print('{:.2f} ms'.format((t2-t1)/1e6))"
   ]
  },
  {
   "cell_type": "markdown",
   "metadata": {},
   "source": [
    "#### Last 100 nans"
   ]
  },
  {
   "cell_type": "code",
   "execution_count": 85,
   "metadata": {},
   "outputs": [],
   "source": [
    "vec100 = vec.copy()\n",
    "vec100[-100:] = np.nan"
   ]
  },
  {
   "cell_type": "markdown",
   "metadata": {},
   "source": [
    "Create a boolean mask with isnan. Slice a range array using the mask."
   ]
  },
  {
   "cell_type": "code",
   "execution_count": 86,
   "metadata": {},
   "outputs": [
    {
     "name": "stdout",
     "output_type": "stream",
     "text": [
      "322.15 ms\n"
     ]
    }
   ],
   "source": [
    "t1 = process_time_ns()\n",
    "for i in range(1000):\n",
    "    mask = ~np.isnan(vec100)\n",
    "    idv = np.array(range(len(vec100)))\n",
    "    idv = idv[mask][-1]\n",
    "t2 = process_time_ns()\n",
    "print('{:.2f} ms'.format((t2-t1)/1e6))"
   ]
  },
  {
   "cell_type": "markdown",
   "metadata": {},
   "source": [
    "Loop from the back of the array, stop when a non-nan is found."
   ]
  },
  {
   "cell_type": "code",
   "execution_count": 87,
   "metadata": {},
   "outputs": [
    {
     "name": "stdout",
     "output_type": "stream",
     "text": [
      "232.72 ms\n"
     ]
    }
   ],
   "source": [
    "t1 = process_time_ns()\n",
    "for i in range(1000):\n",
    "    i = -1\n",
    "    while np.isnan(vec100[i]):\n",
    "        i -= 1\n",
    "    idv = len(vec100)+i\n",
    "t2 = process_time_ns()\n",
    "print('{:.2f} ms'.format((t2-t1)/1e6))"
   ]
  },
  {
   "cell_type": "markdown",
   "metadata": {},
   "source": [
    "### Comparison between pandas and numpy "
   ]
  },
  {
   "cell_type": "markdown",
   "metadata": {},
   "source": [
    "### Last 10 values are nans "
   ]
  },
  {
   "cell_type": "code",
   "execution_count": 88,
   "metadata": {},
   "outputs": [],
   "source": [
    "vec[-10:] = np.nan\n",
    "df = pd.Series(vec, index=dates)"
   ]
  },
  {
   "cell_type": "code",
   "execution_count": 89,
   "metadata": {},
   "outputs": [
    {
     "name": "stdout",
     "output_type": "stream",
     "text": [
      "10 loops, best of 5: 167 ms per loop\n"
     ]
    }
   ],
   "source": [
    "%%timeit\n",
    "for i in range(1000):\n",
    "    x = df.last_valid_index()"
   ]
  },
  {
   "cell_type": "code",
   "execution_count": 90,
   "metadata": {},
   "outputs": [
    {
     "name": "stdout",
     "output_type": "stream",
     "text": [
      "10 loops, best of 5: 23.3 ms per loop\n"
     ]
    }
   ],
   "source": [
    "%%timeit\n",
    "for i in range(1000):\n",
    "    i = -1\n",
    "    while np.isnan(vec[i]):\n",
    "        i -= 1\n",
    "    idv = len(vec)+i"
   ]
  },
  {
   "cell_type": "markdown",
   "metadata": {},
   "source": [
    "### Last 100 values are nans "
   ]
  },
  {
   "cell_type": "code",
   "execution_count": 91,
   "metadata": {},
   "outputs": [],
   "source": [
    "vec[-100:] = np.nan\n",
    "df = pd.Series(vec, index=dates)"
   ]
  },
  {
   "cell_type": "code",
   "execution_count": 92,
   "metadata": {},
   "outputs": [
    {
     "name": "stdout",
     "output_type": "stream",
     "text": [
      "10 loops, best of 5: 168 ms per loop\n"
     ]
    }
   ],
   "source": [
    "%%timeit\n",
    "for i in range(1000):\n",
    "    x = df.last_valid_index()"
   ]
  },
  {
   "cell_type": "code",
   "execution_count": 93,
   "metadata": {},
   "outputs": [
    {
     "name": "stdout",
     "output_type": "stream",
     "text": [
      "1 loop, best of 5: 209 ms per loop\n"
     ]
    }
   ],
   "source": [
    "%%timeit\n",
    "for i in range(1000):\n",
    "    i = -1\n",
    "    while np.isnan(vec[i]):\n",
    "        i -= 1\n",
    "    idv = len(vec)+i"
   ]
  }
 ],
 "metadata": {
  "kernelspec": {
   "display_name": "Python 3",
   "language": "python",
   "name": "python3"
  },
  "language_info": {
   "codemirror_mode": {
    "name": "ipython",
    "version": 3
   },
   "file_extension": ".py",
   "mimetype": "text/x-python",
   "name": "python",
   "nbconvert_exporter": "python",
   "pygments_lexer": "ipython3",
   "version": "3.7.3"
  }
 },
 "nbformat": 4,
 "nbformat_minor": 2
}
