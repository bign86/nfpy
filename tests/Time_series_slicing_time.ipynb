{
 "cells": [
  {
   "cell_type": "markdown",
   "metadata": {},
   "source": [
    "# Time series date slicing - Pandas vs Numpy"
   ]
  },
  {
   "cell_type": "code",
   "execution_count": null,
   "metadata": {},
   "outputs": [],
   "source": [
    "import numpy as np\n",
    "import pandas as pd\n",
    "from time import process_time_ns"
   ]
  },
  {
   "cell_type": "markdown",
   "metadata": {},
   "source": [
    "#### Prepare data"
   ]
  },
  {
   "cell_type": "code",
   "execution_count": null,
   "metadata": {},
   "outputs": [],
   "source": [
    "dates = pd.date_range('1/1/2000', periods=2000)\n",
    "df = pd.Series(np.random.randn(2000), index=dates)\n",
    "start, end = '2004-01-01', '2005-02-20'\n",
    "df.iloc[[0, -1]]"
   ]
  },
  {
   "cell_type": "markdown",
   "metadata": {},
   "source": [
    "#### Process time (time library)"
   ]
  },
  {
   "cell_type": "markdown",
   "metadata": {},
   "source": [
    "Slice using the Pandas method .loc[]"
   ]
  },
  {
   "cell_type": "code",
   "execution_count": null,
   "metadata": {},
   "outputs": [],
   "source": [
    "a1 = process_time_ns()\n",
    "for i in range(1000):\n",
    "    x = df.loc[start:end]\n",
    "a2 = process_time_ns()"
   ]
  },
  {
   "cell_type": "markdown",
   "metadata": {},
   "source": [
    "Slice using numpy searchsorted. The time required for the array preparation from the Pandas series is not included"
   ]
  },
  {
   "cell_type": "code",
   "execution_count": null,
   "metadata": {},
   "outputs": [],
   "source": [
    "v, dt = np.ravel(df.values), df.index.values\n",
    "a3 = process_time_ns()\n",
    "for i in range(1000):\n",
    "    search = []\n",
    "    if start:\n",
    "        search.append(np.datetime64(start))\n",
    "    if end:\n",
    "        search.append(np.datetime64(end))\n",
    "    idx = np.searchsorted(dt, search)\n",
    "    if start and end:\n",
    "        _v = v[idx[0]:idx[1]]\n",
    "        _dt = dt[idx[0]:idx[1]]\n",
    "    elif start:\n",
    "        _v = v[idx[0]:]\n",
    "        _dt = dt[idx[0]:]\n",
    "    elif end:\n",
    "        _v = v[:idx[0]]\n",
    "        _dt = dt[:idx[0]]\n",
    "a4 = process_time_ns()"
   ]
  },
  {
   "cell_type": "markdown",
   "metadata": {},
   "source": [
    "Slice using numpy searchsorted. The time required for the array preparation from the Pandas series is included"
   ]
  },
  {
   "cell_type": "code",
   "execution_count": null,
   "metadata": {},
   "outputs": [],
   "source": [
    "a5 = process_time_ns()\n",
    "for i in range(1000):\n",
    "    v, dt = np.ravel(df.values), df.index.values\n",
    "    search = []\n",
    "    if start:\n",
    "        search.append(np.datetime64(start))\n",
    "    if end:\n",
    "        search.append(np.datetime64(end))\n",
    "    idx = np.searchsorted(dt, search)\n",
    "    if start and end:\n",
    "        _v = v[idx[0]:idx[1]]\n",
    "        _dt = dt[idx[0]:idx[1]]\n",
    "    elif start:\n",
    "        _v = v[idx[0]:]\n",
    "        _dt = dt[idx[0]:]\n",
    "    elif end:\n",
    "        _v = v[:idx[0]]\n",
    "        _dt = dt[:idx[0]]\n",
    "a6 = process_time_ns()"
   ]
  },
  {
   "cell_type": "markdown",
   "metadata": {},
   "source": [
    "Print results in milliseconds"
   ]
  },
  {
   "cell_type": "code",
   "execution_count": null,
   "metadata": {},
   "outputs": [],
   "source": [
    "print('(in milliseconds)\\npandas\\t{:.2f}\\nnumpy\\t{:.2f}\\npd_2_np\\t{:.2f}'\n",
    "      .format((a2-a1)/1e6,(a4-a3)/1e6,(a6-a5)/1e6))"
   ]
  },
  {
   "cell_type": "markdown",
   "metadata": {},
   "source": [
    "#### Timeit magic call"
   ]
  },
  {
   "cell_type": "code",
   "execution_count": null,
   "metadata": {},
   "outputs": [],
   "source": [
    "%%timeit\n",
    "for i in range(1000):\n",
    "    x = df.loc[start:end]"
   ]
  },
  {
   "cell_type": "code",
   "execution_count": null,
   "metadata": {},
   "outputs": [],
   "source": [
    "%%timeit\n",
    "for i in range(1000):\n",
    "    search = []\n",
    "    if start:\n",
    "        search.append(np.datetime64(start))\n",
    "    if end:\n",
    "        search.append(np.datetime64(end))\n",
    "    idx = np.searchsorted(dt, search)\n",
    "    if start and end:\n",
    "        _v = v[idx[0]:idx[1]]\n",
    "        _dt = dt[idx[0]:idx[1]]\n",
    "    elif start:\n",
    "        _v = v[idx[0]:]\n",
    "        _dt = dt[idx[0]:]\n",
    "    elif end:\n",
    "        _v = v[:idx[0]]\n",
    "        _dt = dt[:idx[0]]"
   ]
  },
  {
   "cell_type": "code",
   "execution_count": null,
   "metadata": {},
   "outputs": [],
   "source": [
    "%%timeit\n",
    "for i in range(1000):\n",
    "    v, dt = np.ravel(df.values), df.index.values\n",
    "    search = []\n",
    "    if start:\n",
    "        search.append(np.datetime64(start))\n",
    "    if end:\n",
    "        search.append(np.datetime64(end))\n",
    "    idx = np.searchsorted(dt, search)\n",
    "    if start and end:\n",
    "        _v = v[idx[0]:idx[1]]\n",
    "        _dt = dt[idx[0]:idx[1]]\n",
    "    elif start:\n",
    "        _v = v[idx[0]:]\n",
    "        _dt = dt[idx[0]:]\n",
    "    elif end:\n",
    "        _v = v[:idx[0]]\n",
    "        _dt = dt[:idx[0]]"
   ]
  }
 ],
 "metadata": {
  "kernelspec": {
   "display_name": "Python 3",
   "language": "python",
   "name": "python3"
  },
  "language_info": {
   "codemirror_mode": {
    "name": "ipython",
    "version": 3
   },
   "file_extension": ".py",
   "mimetype": "text/x-python",
   "name": "python",
   "nbconvert_exporter": "python",
   "pygments_lexer": "ipython3",
   "version": "3.7.3"
  }
 },
 "nbformat": 4,
 "nbformat_minor": 2
}
