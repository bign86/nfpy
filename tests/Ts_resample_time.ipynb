{
 "cells": [
  {
   "cell_type": "raw",
   "metadata": {},
   "source": [
    "# Time series resampling - Pandas vs Numpy"
   ]
  },
  {
   "cell_type": "code",
   "execution_count": null,
   "metadata": {},
   "outputs": [],
   "source": [
    "import numpy as np\n",
    "import pandas as pd\n",
    "from time import process_time_ns\n",
    "\n",
    "from nfpy.Assets import get_af_glob, get_fx_glob\n",
    "import nfpy.Calendar as Cal\n",
    "from nfpy.Financial import DividendFactory"
   ]
  },
  {
   "cell_type": "markdown",
   "metadata": {},
   "source": [
    "#### Define functions and prepare data"
   ]
  },
  {
   "cell_type": "code",
   "execution_count": null,
   "metadata": {},
   "outputs": [],
   "source": [
    "def div_paid_numpy(ptf, af, fx):\n",
    "    # Create the list of years\n",
    "    years = np.unique(\n",
    "        self._cal\n",
    "            .calendar\n",
    "            .values\n",
    "            .astype('datetime64[Y]')\n",
    "    )\n",
    "    dividends = np.zeros(years.shape[0])\n",
    "\n",
    "    for uid in ptf.constituents_uids:\n",
    "        if fx.is_ccy(uid):\n",
    "            continue\n",
    "\n",
    "        asset = af.get(uid)\n",
    "\n",
    "        if asset.type == 'Currency':\n",
    "            continue\n",
    "\n",
    "        elif asset.type == 'Equity':\n",
    "            dt, div = DividendFactory(asset).dividends\n",
    "            y_dt = dt.astype('datetime64[Y]')\n",
    "\n",
    "            for n, y in enumerate(years):\n",
    "                dividends[n] += np.sum(div[y_dt == y])\n",
    "\n",
    "    return dividends\n",
    "\n",
    "def div_paid_pandas(ptf, af, fx):\n",
    "    # Create the list of years\n",
    "    dividends = pd.Series(.0, index=self._cal.calendar)\n",
    "\n",
    "    for uid in ptf.constituents_uids:\n",
    "        if fx.is_ccy(uid):\n",
    "            continue\n",
    "\n",
    "        asset = af.get(uid)\n",
    "\n",
    "        if asset.type == 'Currency':\n",
    "            continue\n",
    "\n",
    "        elif asset.type == 'Equity':\n",
    "            dt, div = DividendFactory(asset).dividends\n",
    "            divs = pd.Series(div, index=dt) \\\n",
    "                .asfreq(freq='B') \\\n",
    "                .fillna(.0)\n",
    "            dividends = dividends.add(divs, fill_value=.0)\n",
    "\n",
    "    return dividends.resample('Y').sum()"
   ]
  },
  {
   "cell_type": "code",
   "execution_count": null,
   "metadata": {},
   "outputs": [],
   "source": [
    "cal = Cal.get_calendar_glob()\n",
    "cal.initialize(Cal.today(), '2010-01-01')\n",
    "af = get_af_glob()\n",
    "fx = get_fx_glob()"
   ]
  },
  {
   "cell_type": "code",
   "execution_count": null,
   "metadata": {},
   "outputs": [],
   "source": [
    "ptf = af.get('IBKR')\n",
    "\n",
    "for uid in ptf.constituents_uids:\n",
    "    if fx.is_ccy(uid):\n",
    "        continue\n",
    "    _ = af.get(uid)"
   ]
  },
  {
   "cell_type": "markdown",
   "metadata": {},
   "source": [
    "#### Comparison"
   ]
  },
  {
   "cell_type": "code",
   "execution_count": null,
   "metadata": {},
   "outputs": [],
   "source": [
    "%%timeit\n",
    "for i in range(1000):\n",
    "    d_n = div_paid_numpy()"
   ]
  },
  {
   "cell_type": "code",
   "execution_count": null,
   "metadata": {},
   "outputs": [],
   "source": [
    "%%timeit\n",
    "for i in range(1000):\n",
    "    d_p = div_paid_pandas()"
   ]
  }
 ],
 "metadata": {
  "kernelspec": {
   "display_name": "Python 3",
   "language": "python",
   "name": "python3"
  },
  "language_info": {
   "codemirror_mode": {
    "name": "ipython",
    "version": 3
   },
   "file_extension": ".py",
   "mimetype": "text/x-python",
   "name": "python",
   "nbconvert_exporter": "python",
   "pygments_lexer": "ipython3",
   "version": "3.6.15"
  }
 },
 "nbformat": 4,
 "nbformat_minor": 2
}
