{
 "cells": [
  {
   "cell_type": "markdown",
   "metadata": {},
   "source": [
    "# Time series date slicing - Pandas vs Numpy"
   ]
  },
  {
   "cell_type": "code",
   "execution_count": null,
   "metadata": {},
   "outputs": [],
   "source": [
    "import numpy as np\n",
    "import pandas as pd\n",
    "from time import process_time_ns"
   ]
  },
  {
   "cell_type": "markdown",
   "metadata": {},
   "source": [
    "#### Define functions and prepare data"
   ]
  },
  {
   "cell_type": "code",
   "execution_count": null,
   "metadata": {},
   "outputs": [],
   "source": [
    "def ts_yield_pd(ts, base, date):\n",
    "    ts = ts.loc[:date]\n",
    "    base = base.loc[:date]\n",
    "\n",
    "    idx_div = ts.last_valid_index()\n",
    "    idx_p = base.last_valid_index()\n",
    "    return ts.at[idx_div] / base.at[idx_p]\n",
    "\n",
    "def trim_ts(v, dt, start=None, end=None):\n",
    "    search = []\n",
    "    if start:\n",
    "        search.append(np.datetime64(start))\n",
    "    if end:\n",
    "        search.append(np.datetime64(end))\n",
    "    idx = np.searchsorted(dt, search)\n",
    "    if start and end:\n",
    "        v = v[idx[0]:idx[1]]\n",
    "        dt = dt[idx[0]:idx[1]]\n",
    "    elif start:\n",
    "        v = v[idx[0]:]\n",
    "        dt = dt[idx[0]:]\n",
    "    elif end:\n",
    "        v = v[:idx[0]]\n",
    "        dt = dt[:idx[0]]\n",
    "    return v, dt\n",
    "\n",
    "def last_valid_index(v):\n",
    "    i = -1\n",
    "    while np.isnan(v[i]):\n",
    "        i -= 1\n",
    "    return len(v) + i\n",
    "\n",
    "def ts_yield_np(ts, dt, base, dt_base, date):\n",
    "    ts, dt = trim_ts(ts, dt, end=date)\n",
    "    base, dt_base = trim_ts(base, dt_base, end=date)\n",
    "\n",
    "    idx_ts = last_valid_index(ts)\n",
    "    idx_base = last_valid_index(base)\n",
    "    return ts[idx_ts] / base[idx_base]"
   ]
  },
  {
   "cell_type": "code",
   "execution_count": null,
   "metadata": {},
   "outputs": [],
   "source": [
    "dates = pd.date_range('1/1/2000', periods=2000)\n",
    "ts = pd.Series(np.random.randn(2000), index=dates)\n",
    "base = pd.Series(np.random.randn(2000), index=dates)\n",
    "p_np, dt_p_np = ts.values, ts.index.values\n",
    "b_np, dt_b_np = base.values, base.index.values"
   ]
  },
  {
   "cell_type": "markdown",
   "metadata": {},
   "source": [
    "#### Comparison"
   ]
  },
  {
   "cell_type": "code",
   "execution_count": null,
   "metadata": {},
   "outputs": [],
   "source": [
    "%%timeit\n",
    "for i in range(1000):\n",
    "    y_pd = ts_yield_pd(ts, base, '2018-01-01')"
   ]
  },
  {
   "cell_type": "code",
   "execution_count": null,
   "metadata": {},
   "outputs": [],
   "source": [
    "%%timeit\n",
    "for i in range(1000):\n",
    "    y_np = ts_yield_np(p_np, dt_p_np, b_np, dt_b_np, np.datetime64('2018-01-01'))"
   ]
  },
  {
   "cell_type": "markdown",
   "metadata": {},
   "source": [
    "Correctness check"
   ]
  },
  {
   "cell_type": "code",
   "execution_count": null,
   "metadata": {},
   "outputs": [],
   "source": [
    "y_pd = ts_yield_pd(ts, base, '2018-01-01')\n",
    "y_np = ts_yield_np(p_np, dt_p_np, b_np, dt_b_np, np.datetime64('2018-01-01'))\n",
    "y_pd, y_np"
   ]
  }
 ],
 "metadata": {
  "kernelspec": {
   "display_name": "Python 3",
   "language": "python",
   "name": "python3"
  },
  "language_info": {
   "codemirror_mode": {
    "name": "ipython",
    "version": 3
   },
   "file_extension": ".py",
   "mimetype": "text/x-python",
   "name": "python",
   "nbconvert_exporter": "python",
   "pygments_lexer": "ipython3",
   "version": "3.7.3"
  }
 },
 "nbformat": 4,
 "nbformat_minor": 2
}
